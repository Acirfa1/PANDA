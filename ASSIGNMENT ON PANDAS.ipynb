{
 "cells": [
  {
   "cell_type": "code",
   "execution_count": 12,
   "id": "399a3de8",
   "metadata": {},
   "outputs": [
    {
     "name": "stdout",
     "output_type": "stream",
     "text": [
      "   0   1   2   3   4   5   6   7   8   9   10  11  12  13\n",
      "0  11  24  12  18  19  22  20  19  14  17  13  16  15  23\n",
      "1  27  23  22  20  12  27  25  10  22  15  10  29  15  26\n",
      "2  17  11  23  25  11  16  28  20  16  28  24  20  10  29\n",
      "3  16  19  24  15  26  11  24  18  19  27  17  17  18  28\n",
      "4  28  13  27  17  22  18  15  13  16  21  12  10  14  25\n"
     ]
    }
   ],
   "source": [
    "# ASSIGNMENT TO CHANGE COLUMNS IN DataFrame IN PANDAS\n",
    "# Firstly import neccessary libraries\n",
    "import pandas as pd\n",
    "import numpy as np\n",
    "\n",
    "np_st_id = np.random.randint(10,30,(5,14))\n",
    "print(st_id) "
   ]
  },
  {
   "cell_type": "code",
   "execution_count": 14,
   "id": "3c60df63",
   "metadata": {},
   "outputs": [
    {
     "name": "stdout",
     "output_type": "stream",
     "text": [
      "        0   1   2   3   4   5   6   7   8   9   10  11  12  13\n",
      "John    11  24  12  18  19  22  20  19  14  17  13  16  15  23\n",
      "Peter   27  23  22  20  12  27  25  10  22  15  10  29  15  26\n",
      "Grace   17  11  23  25  11  16  28  20  16  28  24  20  10  29\n",
      "Sarah   16  19  24  15  26  11  24  18  19  27  17  17  18  28\n",
      "Josiah  28  13  27  17  22  18  15  13  16  21  12  10  14  25\n"
     ]
    }
   ],
   "source": [
    "# To change the default indices for the rows\n",
    "st_id.index = [\"John\",\"Peter\",\"Grace\",\"Sarah\",\"Josiah\"]\n",
    "print(st_id)"
   ]
  },
  {
   "cell_type": "code",
   "execution_count": 17,
   "id": "15c963d7",
   "metadata": {},
   "outputs": [
    {
     "name": "stdout",
     "output_type": "stream",
     "text": [
      "        Maths  English  Basic Science  Chemistry  French  Igbo  Physics  \\\n",
      "John       11       24             12         18      19    22       20   \n",
      "Peter      27       23             22         20      12    27       25   \n",
      "Grace      17       11             23         25      11    16       28   \n",
      "Sarah      16       19             24         15      26    11       24   \n",
      "Josiah     28       13             27         17      22    18       15   \n",
      "\n",
      "        Hausa  Biology  Business Studies  Latin  P.H.E  Fine Arts  Drawing  \n",
      "John       19       14                17     13     16         15       23  \n",
      "Peter      10       22                15     10     29         15       26  \n",
      "Grace      20       16                28     24     20         10       29  \n",
      "Sarah      18       19                27     17     17         18       28  \n",
      "Josiah     13       16                21     12     10         14       25  \n"
     ]
    }
   ],
   "source": [
    "st_id.columns = [\"Maths\",\"English\",\"Basic Science\",\"Chemistry\",\"French\",\"Igbo\",\"Physics\",\"Hausa\",\"Biology\",\"Business Studies\",\"Latin\",\"P.H.E\",\"Fine Arts\",\"Drawing\"]\n",
    "print(st_id)"
   ]
  },
  {
   "cell_type": "markdown",
   "id": "5f171e98",
   "metadata": {},
   "source": [
    "# QUESTION 2:  how to change directly the default indices while creating a dataframe. "
   ]
  },
  {
   "cell_type": "code",
   "execution_count": 26,
   "id": "347cf717",
   "metadata": {},
   "outputs": [
    {
     "name": "stdout",
     "output_type": "stream",
     "text": [
      "      Igbo  Latin  Maths  P.H.E  Hausa\n",
      "John    71     46     59      0     20\n",
      "Joy     70     32     38     70     88\n",
      "Ada     88     23     19     26     80\n",
      "Deca    28      2     38     80     33\n",
      "Dan      7     31     47     16     72\n"
     ]
    }
   ],
   "source": [
    "np_students = np.random.randint(0,100,(5,5))\n",
    " \n",
    "students = pd.DataFrame(np_students,index=[\"John\",\"Joy\",\"Ada\",\"Deca\",\"Dan\"],columns=[\"Igbo\",\"Latin\",\"Maths\",\"P.H.E\",\"Hausa\"])\n",
    "print(students)"
   ]
  },
  {
   "cell_type": "markdown",
   "id": "b417d712",
   "metadata": {},
   "source": []
  }
 ],
 "metadata": {
  "kernelspec": {
   "display_name": "Python 3 (ipykernel)",
   "language": "python",
   "name": "python3"
  },
  "language_info": {
   "codemirror_mode": {
    "name": "ipython",
    "version": 3
   },
   "file_extension": ".py",
   "mimetype": "text/x-python",
   "name": "python",
   "nbconvert_exporter": "python",
   "pygments_lexer": "ipython3",
   "version": "3.11.4"
  }
 },
 "nbformat": 4,
 "nbformat_minor": 5
}
